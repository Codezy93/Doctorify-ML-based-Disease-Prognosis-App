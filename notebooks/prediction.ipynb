{
 "cells": [
  {
   "cell_type": "code",
   "execution_count": null,
   "metadata": {},
   "outputs": [],
   "source": [
    "import pandas as pd\n",
    "import numpy as np\n",
    "import matplotlib.pyplot as plt\n",
    "import seaborn as sns\n",
    "\n",
    "# Scikit-learn imports\n",
    "from sklearn.preprocessing import LabelEncoder\n",
    "from sklearn.model_selection import train_test_split, GridSearchCV\n",
    "from sklearn.metrics import classification_report, accuracy_score, confusion_matrix\n",
    "from sklearn.pipeline import Pipeline\n",
    "\n",
    "# Classifier\n",
    "from sklearn.ensemble import RandomForestClassifier\n",
    "\n",
    "# For imbalanced data handling (optional)\n",
    "from imblearn.over_sampling import SMOTE\n",
    "from imblearn.pipeline import Pipeline as ImbPipeline\n",
    "\n",
    "# Misc\n",
    "import warnings\n",
    "warnings.filterwarnings('ignore')  # to suppress potential warnings"
   ]
  },
  {
   "cell_type": "markdown",
   "metadata": {},
   "source": [
    "# Load Data"
   ]
  },
  {
   "cell_type": "code",
   "execution_count": null,
   "metadata": {},
   "outputs": [],
   "source": [
    "train_df = pd.read_csv('/content/Training.csv')\n",
    "test_df = pd.read_csv('/content/Testing.csv')"
   ]
  },
  {
   "cell_type": "markdown",
   "metadata": {},
   "source": [
    "#  Drop redundant column if present"
   ]
  },
  {
   "cell_type": "code",
   "execution_count": null,
   "metadata": {},
   "outputs": [],
   "source": [
    "if 'Unnamed: 133' in train_df.columns:\n",
    "    train_df.drop(columns=['Unnamed: 133'], inplace=True)\n",
    "\n",
    "print(\"Missing values in training dataset:\")\n",
    "print(train_df.isna().sum())\n",
    "\n",
    "print(\"\\nMissing values in testing dataset:\")\n",
    "print(test_df.isna().sum())\n",
    "\n",
    "duplicates_train = train_df.duplicated()\n",
    "duplicates_test = test_df.duplicated()\n",
    "\n",
    "print(f\"Duplicate Rows in Training: {duplicates_train.sum()}\")\n",
    "print(f\"Duplicate Rows in Testing: {duplicates_test.sum()}\")"
   ]
  },
  {
   "cell_type": "markdown",
   "metadata": {},
   "source": [
    "# Drop rows with missing target if needed"
   ]
  },
  {
   "cell_type": "code",
   "execution_count": null,
   "metadata": {},
   "outputs": [],
   "source": [
    "train_df.dropna(subset=['prognosis'], inplace=True)\n",
    "test_df.dropna(subset=['prognosis'], inplace=True)"
   ]
  }
 ],
 "metadata": {
  "language_info": {
   "name": "python"
  }
 },
 "nbformat": 4,
 "nbformat_minor": 2
}
